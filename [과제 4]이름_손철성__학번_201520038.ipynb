{
 "cells": [
  {
   "cell_type": "markdown",
   "metadata": {},
   "source": [
    "# <center> <기계공학과 머신러닝> 중간고사 </center>\n",
    "\n",
    "### <div style=\"text-align: right\"> 2019.10.22 </div>\n",
    "* 본 문제는 Part1 과 Part2 로 구성되어 있습니다. \n",
    "* 각 파트별로 (Part1) 15 문제, (Part2) 5 문제 총 20 문제입니다. \n",
    "* 각 문항당 배점이 달리 부여 되어 있으며 만점은 100점입니다. \n",
    "* 문제에서 출력하라는 말은 모두 print문을 사용하는 것을 의미합니다. "
   ]
  },
  {
   "cell_type": "markdown",
   "metadata": {},
   "source": [
    "     \n",
    "        \n",
    "         \n",
    "         \n",
    "         \n",
    "         \n",
    "         "
   ]
  },
  {
   "cell_type": "markdown",
   "metadata": {},
   "source": [
    "## [Part1]"
   ]
  },
  {
   "cell_type": "markdown",
   "metadata": {},
   "source": [
    "### 1-1. 화면에 아래 문장을 출력하라. (중간에 \"가 있음에 주의.) [ 2점 ]\n",
    "신씨가 소리질렀다. \"도둑이야\"."
   ]
  },
  {
   "cell_type": "code",
   "execution_count": null,
   "metadata": {},
   "outputs": [],
   "source": [
    "print('신씨가 소리질렀다.\"도둑이야\"')"
   ]
  },
  {
   "cell_type": "markdown",
   "metadata": {},
   "source": [
    "### 1-2. 다음 코드를 수정하여 줄바꿈이 없이 출력되도록 하라. print 함수는 두 번 사용한다. 세미콜론 (;)은 한줄에 여러 개의 명령을 작성하기 위해 사용된다. 마지막 커서도 줄바꿈이 없어야 함. (힌트: end='') [ 2점 ]\n",
    "\n",
    "print(\"first\");print(\"second\")"
   ]
  },
  {
   "cell_type": "code",
   "execution_count": null,
   "metadata": {},
   "outputs": [],
   "source": [
    "print(\"first\",end=\" \")\n",
    "print(\"second\")"
   ]
  },
  {
   "cell_type": "markdown",
   "metadata": {},
   "source": [
    "### 1-3. 변수 s와 t에는 각각 다음과 같은 문자열이 저장 되어있다. \n"
   ]
  },
  {
   "cell_type": "code",
   "execution_count": null,
   "metadata": {},
   "outputs": [],
   "source": [
    "s = \"hello!\"\n",
    "t = \"python\""
   ]
  },
  {
   "cell_type": "markdown",
   "metadata": {},
   "source": [
    "### 두 변수를 이용하여 아래와 같이 출력하라. [ 2점 ]\n",
    "\n",
    "실행 예:\n",
    "hello! python"
   ]
  },
  {
   "cell_type": "code",
   "execution_count": null,
   "metadata": {},
   "outputs": [],
   "source": [
    "s = \"hello \"\n",
    "t = \"python\"\n",
    "\n",
    "print(s + t)"
   ]
  },
  {
   "cell_type": "markdown",
   "metadata": {},
   "source": [
    "### 1-4. 다음과 같이 변수 num에 정수 100이 저장 되어있다. "
   ]
  },
  {
   "cell_type": "code",
   "execution_count": null,
   "metadata": {},
   "outputs": [],
   "source": [
    "num = 100"
   ]
  },
  {
   "cell_type": "markdown",
   "metadata": {},
   "source": [
    "###  이를 문자열 '100'으로 변환 후 출력하고 그 타입과 함께 출력하라. [ 2점 ]"
   ]
  },
  {
   "cell_type": "code",
   "execution_count": null,
   "metadata": {},
   "outputs": [],
   "source": [
    "num = 100\n",
    "a = str(num)\n",
    "print(a)\n",
    "type(a)"
   ]
  },
  {
   "cell_type": "markdown",
   "metadata": {},
   "source": [
    "### 1-5. 자동차 번호가 다음과 같을 때 뒤에 4자리만 출력하라. (힌트: 슬라이싱을 이용할 것) [ 2점 ]"
   ]
  },
  {
   "cell_type": "code",
   "execution_count": null,
   "metadata": {},
   "outputs": [],
   "source": [
    "license_plate = \"24가 2210\" "
   ]
  },
  {
   "cell_type": "markdown",
   "metadata": {},
   "source": [
    "실행 예: 2210"
   ]
  },
  {
   "cell_type": "code",
   "execution_count": null,
   "metadata": {},
   "outputs": [],
   "source": [
    "license_plate = \"24가 2210\" \n",
    "license_plate[-4:]"
   ]
  },
  {
   "cell_type": "markdown",
   "metadata": {},
   "source": [
    "### 1-6. cook 리스트에 다음과 같은 목록이 저장되어 있다.  "
   ]
  },
  {
   "cell_type": "code",
   "execution_count": null,
   "metadata": {},
   "outputs": [],
   "source": [
    "cook = [\"피자\", \"김밥\", \"만두\", \"양념치킨\", \"족발\", \"피자\", \"김치만두\", \"쫄면\", \"쏘세지\", \"라면\", \"팥빙수\", \"김치전\"]\n",
    "\n",
    "\n",
    "\n",
    "len(cook)\n"
   ]
  },
  {
   "cell_type": "markdown",
   "metadata": {},
   "source": [
    "### 위 리스트에 저장된 데이터의 개수를 화면에 출력하라. (힌트: 전역함수 이용) [ 3점 ]"
   ]
  },
  {
   "cell_type": "code",
   "execution_count": null,
   "metadata": {},
   "outputs": [],
   "source": [
    "cook = [\"피자\", \"김밥\", \"만두\", \"양념치킨\", \"족발\", \"피자\", \"김치만두\", \"쫄면\", \"쏘세지\", \"라면\", \"팥빙수\", \"김치전\"]\n",
    "\n",
    "def name(cook):\n",
    "    result = len(cook)\n",
    "    return result\n",
    "a = name(cook)\n",
    "print(a)"
   ]
  },
  {
   "cell_type": "markdown",
   "metadata": {},
   "source": [
    "### 1-7. 회사 이름이 슬래시 ('/')로 구분되어 하나의 문자열로 저장되어 있다.  \n"
   ]
  },
  {
   "cell_type": "code",
   "execution_count": null,
   "metadata": {},
   "outputs": [],
   "source": [
    "string = \"삼성전자/LG전자/Naver\""
   ]
  },
  {
   "cell_type": "markdown",
   "metadata": {},
   "source": [
    "### 이를 interest 이름의 리스트로 분리 저장하고 출력하여 아래와 같은 결과가 나오도록 하라. \n",
    "### (다양한 방법이 가능함) [ 3점 ]\n",
    "\n",
    "실행 예시   \n",
    "-> print(interest)  \n",
    "['삼성전자', 'LG전자', 'Naver']"
   ]
  },
  {
   "cell_type": "code",
   "execution_count": null,
   "metadata": {},
   "outputs": [],
   "source": [
    "string = \"삼성전자/LG전자/Naver\"\n",
    "interest = string.split(\"/\")\n",
    "print(interest)"
   ]
  },
  {
   "cell_type": "markdown",
   "metadata": {},
   "source": [
    "### 1-8. 점수 구간에 해당하는 학점이 아래와 같이 정의되어 있다.\n",
    "| 점수   \t| 학점 \t|\n",
    "|--------\t|------\t|\n",
    "| 81~100 \t| A    \t|\n",
    "| 61~80  \t| B    \t|\n",
    "| 41~60  \t| C    \t|\n",
    "| 21~40  \t| D    \t|\n",
    "| 0~20   \t| E    \t|\n",
    "\n"
   ]
  },
  {
   "cell_type": "markdown",
   "metadata": {},
   "source": [
    "###  if - elif - else 문법과 input 함수를 사용하여 아래 예시와 같이 입력받은 점수를 학점으로 분류하는 코드를 작성하라. \n",
    "### [ 4점 ] \n",
    "실행 예시  \n",
    "-> score:85  \n",
    "grade is A"
   ]
  },
  {
   "cell_type": "code",
   "execution_count": null,
   "metadata": {},
   "outputs": [],
   "source": [
    "score = int(input(\"점수를 입력하세요: \"))\n",
    "\n",
    "if   80 < score <= 100:\n",
    "    print(\"grade is A\")\n",
    "elif 60 < score <= 80:\n",
    "    print(\"grade is B\")\n",
    "elif 40 < score <= 60:\n",
    "    print(\"grade is C\")\n",
    "elif 20 < score <= 40:\n",
    "    print(\"grade is D\")\n",
    "else:\n",
    "    print(\"grade is E\")"
   ]
  },
  {
   "cell_type": "markdown",
   "metadata": {},
   "source": [
    "### 1-9. 아래와 같이 사용자로부터 세 개의 숫자(정수)를 입력 받은 후 가장 큰 숫자를 출력하라. [ 4점 ]\n",
    "실행 예시  \n",
    "-> input number1: 10  \n",
    "-> input number2: 9  \n",
    "-> input number3: 20  \n",
    "20"
   ]
  },
  {
   "cell_type": "code",
   "execution_count": null,
   "metadata": {},
   "outputs": [],
   "source": [
    "number1 = int(input(\"숫자 입력: \"))\n",
    "number2 = int(input(\"숫자 입력: \"))\n",
    "number3 = int(input(\"숫자 입력: \"))\n",
    "a = [number1,number2,number3]\n",
    "print(\"입력값 중 가장 큰 수:\", max(a))"
   ]
  },
  {
   "cell_type": "markdown",
   "metadata": {},
   "source": [
    "### 1-10. portfolio에는 보유중인 주식 목록이 저장되어 있다. "
   ]
  },
  {
   "cell_type": "code",
   "execution_count": null,
   "metadata": {},
   "outputs": [],
   "source": [
    "portfolio = [\"SK하이닉스\", \"삼성전자\", \"LG전자\"]"
   ]
  },
  {
   "cell_type": "markdown",
   "metadata": {},
   "source": [
    "### 아래와 같이 화면에 출력하라. [ 4점 ]\n",
    "SK하이닉스 보유중  \n",
    "삼성전자 보유중  \n",
    "LG전자 보유중 "
   ]
  },
  {
   "cell_type": "code",
   "execution_count": null,
   "metadata": {},
   "outputs": [],
   "source": [
    "portfolio = [\"SK하이닉스\", \"삼성전자\", \"LG전자\"]\n",
    "i = 0\n",
    "for i in range(3):\n",
    "    if i < 3:\n",
    "        print(portfolio[i] + \" 보유중\")"
   ]
  },
  {
   "cell_type": "markdown",
   "metadata": {},
   "source": [
    "### 1-11.  my_list1 에는 아래와 같은 목록이 저장되어 있다. "
   ]
  },
  {
   "cell_type": "code",
   "execution_count": null,
   "metadata": {},
   "outputs": [],
   "source": [
    "my_list1 = [\"I\", \"study\", \"python\", \"language\", \"!\"]"
   ]
  },
  {
   "cell_type": "markdown",
   "metadata": {},
   "source": [
    "### 이 중에서 세 글자 이상의 문자를 화면에 출력하라 [ 4점 ]\n",
    "출력예:  \n",
    "study  \n",
    "python  \n",
    "language"
   ]
  },
  {
   "cell_type": "code",
   "execution_count": null,
   "metadata": {},
   "outputs": [],
   "source": [
    "my_list1 = [\"I\", \"study\", \"python\", \"language\", \"!\"]\n",
    "\n",
    "i = 0\n",
    "for i in range(len(my_list1)):\n",
    "    a = my_list1[i]\n",
    "    b = len(a)\n",
    "    if b  >= 3:\n",
    "        print(a)\n"
   ]
  },
  {
   "cell_type": "markdown",
   "metadata": {},
   "source": [
    "### 1-12. my_list2 에는 아래와 같은 목록이 저장되어 있다. "
   ]
  },
  {
   "cell_type": "code",
   "execution_count": null,
   "metadata": {},
   "outputs": [],
   "source": [
    "my_list2 = [3, -20, -3, 44]"
   ]
  },
  {
   "cell_type": "markdown",
   "metadata": {},
   "source": [
    "### 이 중에서 양수만 new_list 이름의 리스트에 저장하고 출력하라. [4 점] (힌트: if 문 사용)"
   ]
  },
  {
   "cell_type": "code",
   "execution_count": null,
   "metadata": {},
   "outputs": [],
   "source": [
    "my_list2 = [3, -20, -3, 44,]\n",
    "\n",
    "new_list = []\n",
    "i = 0\n",
    "for i in range(len(my_list2)):\n",
    "    a1 = my_list2[i]\n",
    "    if a1 > 0:\n",
    "        new_list.append(a1)\n",
    "print(\"new_list = \",new_list)"
   ]
  },
  {
   "cell_type": "markdown",
   "metadata": {},
   "source": [
    "### 1-13. 피보나치 수열이란, 첫 번째 항의 값이 0이고 두 번째 항의 값이 1일 때, 이후의 항들은 이전의 두 항을 더한 값으로 이루어지는 수열을 말한다.\n",
    "예) 0, 1, 1, 2, 3, 5, 8, 13\n",
    "### 인풋을 정수 n으로 받았을때, n 이하까지의 피보나치 수열을 출력하는 프로그램을 작성하라. [ 5점 ]\n",
    "### (힌트 for 문을 사용할 것) "
   ]
  },
  {
   "cell_type": "code",
   "execution_count": null,
   "metadata": {},
   "outputs": [],
   "source": [
    "fibo_list = [0, 1]\n",
    "n = int(input(\"정수를 입력 : \"))\n",
    "for i in range(2, n):\n",
    "    next_fibo = fibo_list[i-1] + fibo_list[i - 2]\n",
    "    fibo_list.append(next_fibo)\n",
    "print(fibo_list)\n"
   ]
  },
  {
   "cell_type": "markdown",
   "metadata": {},
   "source": [
    "### 1-14. 아래는 코딩고등학교 A반 학생들의 점수 표이다. A반 담임선생님인 혜진씨는 점수 정보를 관리하는 프로그램을 작성하고자 한다. 혜진씨를 도와 프로그램을 작성하시오.  [ 6점 ]\n",
    "| score   | JS   | HS   | MS   | HL   | WJ   | JH   |\n",
    "|------   |------|------|------|------|------|------|\n",
    "| math    | 94   | 78   | 100  | 93   | 82   | 88   |\n",
    "| physics | 93   | 61   | 89   | 87   | 90   | 93   |\n",
    "| coding  | 83   | 93   | 98   | 88   | 84   | 95   |\n",
    "\n",
    "### 조건 1. Student 클래스를 만들어, 이름, 수학, 물리, 코딩 점수를 속성으로 갖으며, 해당 학생의 평균을 리턴하는 average()메소드를 포함한다.\n",
    "### 조건 2. 학생 각각의 Student 객체를 생성하여, 1차원 리스트에 저장한다. \n",
    "### 조건 3. 학생들의 객체를 원소로 갖는 배열을 입력받아, '반의 평균' 점수를 출력하는 함수 classAverage(array)를 작성한다. \n",
    "### 조건 4. 학생들의 객체를 원소로 갖는 배열을 입력받아, '과목별 평균' 점수를 출력하는 함수 subjectAverage(array)를 작성한다.  "
   ]
  },
  {
   "cell_type": "code",
   "execution_count": null,
   "metadata": {},
   "outputs": [],
   "source": [
    "class Student:\n",
    "    def __init__(self, name, math, physics, coding):\n",
    "        self.name = name\n",
    "        self.math = math\n",
    "        self.physics = physics\n",
    "        self.coding = coding\n",
    "\n",
    "    def average(self):\n",
    "        return float((self.math + self.physics + self.coding) / 3)\n",
    "\n",
    "\n",
    "def classAverage(array):\n",
    "    num_people=len(array)\n",
    "    print('math: ', sum(each.math for each in array) / num_people)\n",
    "    print('physics: ', sum(each.physics for each in array) / num_people)\n",
    "    print('coding: ', sum(each.coding for each in array) / num_people)\n",
    "    print('all_avg: ', sum(each.average() for each in array) / num_people)\n",
    "\n",
    "s1=Student('지수', 94, 93, 83)\n",
    "s2=Student('해성', 78, 61, 93)\n",
    "s3=Student('민수', 100, 89, 98)\n",
    "s4=Student('혜린', 93, 87, 88)\n",
    "s5=Student('우진', 82, 90, 84)\n",
    "s6=Student('지현', 88, 93, 95)\n",
    "\n",
    "class_array = [s1,s2,s3,s4,s5,s6]\n",
    "\n",
    "print('지수:',s1.average())\n",
    "print('해성:',s2.average())\n",
    "print('민수:',s3.average())\n",
    "print('혜림:',s4.average())\n",
    "print('우진:',s5.average())\n",
    "print('지현:',s6.average())\n",
    "\n",
    "classAverage(class_array)"
   ]
  },
  {
   "cell_type": "markdown",
   "metadata": {},
   "source": [
    "### 1-15. with문은 파일을 열고 close()함수의 사용 없이 자동으로 파일을 닫아주기 때문에 더욱 간편하게 프로그래밍을 하도록 해준다. with문을 사용하여 동일 경로에 애국가 1절 1소절 \"동해물과 백두산이 마르고 닳도록~\"의 내용을 가진 test.txt 파일을 생성하라.  [ 3점 ]"
   ]
  },
  {
   "cell_type": "code",
   "execution_count": null,
   "metadata": {},
   "outputs": [],
   "source": [
    "with open(\"song.txt\", 'w') as f:\n",
    "    f.write( \"\"\"\n",
    "동해물과 백두산이 마르고 닳도록 \n",
    "하느님이 보우하사 우리나라 만세\n",
    "무궁화 삼천리 화려 강산\n",
    "대한 사람 대한으로 길이 보전하세\n",
    "\"\"\")\n"
   ]
  },
  {
   "cell_type": "markdown",
   "metadata": {},
   "source": [
    "    "
   ]
  },
  {
   "cell_type": "markdown",
   "metadata": {},
   "source": [
    "## [Part2]"
   ]
  },
  {
   "cell_type": "markdown",
   "metadata": {},
   "source": [
    "### 2. Logistic regression (classification) 알고리즘을 이용해 아래와 값이 AND 논리게이트를 구현해보고자 한다. \n",
    "| x1| x2| AND|\n",
    "|-- |-- |----|\n",
    "| 0 | 0 | 0  |\n",
    "| 1 | 0 | 0  |\n",
    "| 0 | 1 | 0  |\n",
    "| 1 | 1 | 1  |\n",
    "### 다음 지시를 따라 순서대로 코드를 작성하라."
   ]
  },
  {
   "cell_type": "markdown",
   "metadata": {},
   "source": [
    "### 2-1 numpy 라이브러리를 import하고 external 함수 중 하나인 sigmoid 함수를 정의 하라. [ 2점 ]"
   ]
  },
  {
   "cell_type": "code",
   "execution_count": null,
   "metadata": {},
   "outputs": [],
   "source": [
    "import numpy as np\n",
    "\n",
    "def sigmoid(x):\n",
    "    return 1 / (1 +np.exp(-x))"
   ]
  },
  {
   "cell_type": "markdown",
   "metadata": {},
   "source": [
    "### 2-2 또 다른 external 함수 중 하나인 numerical_derivative 함수를 정의 하라. [ 4점 ]"
   ]
  },
  {
   "cell_type": "code",
   "execution_count": null,
   "metadata": {},
   "outputs": [],
   "source": [
    "def numerical_derivative(f, x):\n",
    "    delta_x = 1e-5\n",
    "    grad = np.zeros_like(x)\n",
    "    it = np.nditer(x, flags=['multi_index'], op_flags=['readwrite'])\n",
    "    \n",
    "    while not it.finished:\n",
    "        idx  = it.multi_index\n",
    "        tmp_val =x[idx]\n",
    "        x[idx] = float(tmp_val) + delta_x\n",
    "        fx1 = f(x)\n",
    "        \n",
    "        x[idx] = tmp_val - delta_x\n",
    "        fx2 = f(x)\n",
    "        grad[idx] = (fx1-fx2)/(2*delta_x)\n",
    "        \n",
    "        x[idx] = tmp_val\n",
    "        it.iternext()\n",
    "    return grad"
   ]
  },
  {
   "cell_type": "markdown",
   "metadata": {},
   "source": [
    "### 2-3. 아래 조건을 충족하는 LogicGate 클래스를 작성하라. [ 각조건당 5점 씩 ]\n",
    "* 조건 1. gate_name, xdata, tdata 세 가지 인자를 입력값으로 갖으며, xdata를 4X2 행렬로, tdata를 4X1행렬로 reshape하는 생성자를 포함한다. (reshape과정에서 새롭게 선언한 변수는 private변수로 선언할 것)   \n",
    "* 조건 2. 위 생성자 내부에 가중치 W(2X1; 행렬)와 바이어스 b(1; 벡터)를 선언하고 모든 요소에 0과 1 사이의 random 값을 갖도록 한다. (이 과정에서 선언하는 변수 모두 private로 선언)\n",
    "* 조건 3. 위 생성자 내부에 learning_rate를 설정한다. (이 역시 private) \n",
    "* 조건 4. 손실함수(cross-entorypy)를 리턴하는 loss_func()메서드를 포함한다. (이 메서드도 private)\n",
    "* 조건 5. loss_func()와 형태가 같은 error_val() 메서드를 포함한다.\n",
    "* 조건 6. loss_func()에 대해 gradient descent algorithm을 적용하여 최소 손실값을 찾는 train()메서드를 포함한다. (이때 학습을 위해 반복하는 횟수는 최소 8000번 이상으로 한다, 단 400 번 반복할 때마다 step과 error_val을 인쇄하도록 코드를 작성한다.)\n",
    "* 조건 7. 위에서 계산된 W와 b를 이용해 선형회귀 값 z와 이에 sigmoid를 적용한 y를 계산하고 이 y 값이 0.5 이상일 때는 1, 미만일 때는 0으로 변환하여 result 변수에 담고, 최종적으로 y와 result를 리턴하는 predict() 메서드를 포함한다."
   ]
  },
  {
   "cell_type": "code",
   "execution_count": null,
   "metadata": {},
   "outputs": [],
   "source": [
    "class LogicGate:\n",
    "    def __init__(self, gate_name, xdata, tdata):\n",
    "        \n",
    "        self.name = gate_name\n",
    "        \n",
    "        self.__xdata = xdata.reshape(4,2)\n",
    "        self.__tdata = tdata.reshape(4,1)\n",
    "        \n",
    "        self.__W2 = np.random.rand(2,6)\n",
    "        self.__b2 = np.random.rand(6)\n",
    "        \n",
    "        self.__W3 = np.random.rand(6,1)\n",
    "        self.__b3 = np.random.rand(1)\n",
    "        \n",
    "        self.__learning_rate = 1e-2\n",
    "        print(self.name + \"object is created\")\n",
    "        \n",
    "    def feed_forward(self):\n",
    "        delta = 1e-7\n",
    "        \n",
    "        z2 = np.dot(self.__xdata, self.__W2)+ self.__b2\n",
    "        a2 = sigmoid(z2)\n",
    "        \n",
    "        z3 = np.dot(a2, self.__W3)+ self.__b3\n",
    "        y= sigmoid(z3)\n",
    "        return -np.sum(self.__tdata*np.log(y + delta) + (1 - self.__tdata)*np.log((1-y)+ delta))\n",
    "    \n",
    "    def loss_val(self):\n",
    "        delta = 1e-7\n",
    "        z2 = np.dot(self.__xdata, self.__W2)+ self.__b2\n",
    "        a2 = sigmoid(z2)\n",
    "        \n",
    "        z3 = np.dot(a2, self.__W3)+ self.__b3\n",
    "        y = sigmoid(z3)\n",
    "        return -np.sum(self.__tdata*np.log(y + delta) + (1 - self.__tdata)*np.log((1-y)+ delta))\n",
    "        \n",
    "    def train(self):\n",
    "        f = lambda x : self.feed_forward()\n",
    "        \n",
    "        print(\"initial loss value = \", self.loss_val())\n",
    "        \n",
    "        for step in range(10001):\n",
    "            self.__W2 -= self.__learning_rate * numerical_derivative(f, self.__W2)\n",
    "            self.__b2 -= self.__learning_rate * numerical_derivative(f, self.__b2)\n",
    "            self.__W3 -= self.__learning_rate * numerical_derivative(f, self.__W3)\n",
    "            self.__b3 -= self.__learning_rate * numerical_derivative(f, self.__b3)\n",
    "            \n",
    "            if step % 400 == 0:\n",
    "                print(\"step = \", step, \" , loss value = \", self.loss_val())\n",
    "    \n",
    "    def predict(self, xdata):\n",
    "        z2 = np.dot(xdata, self.__W2)+ self.__b2\n",
    "        a2 = sigmoid(z2)\n",
    "        \n",
    "        z3 = np.dot(a2, self.__W3)+ self.__b3\n",
    "        y = a3 = sigmoid(z3)\n",
    "        \n",
    "        if y > 0.5:\n",
    "            result = 1\n",
    "        else:\n",
    "            result = 0\n",
    "        return y, result\n",
    "        "
   ]
  },
  {
   "cell_type": "markdown",
   "metadata": {},
   "source": [
    "### 2-4 xdata 와 tdata에 각각 AND 논리게이트에 대한 feature 값과 결과 값을 넣고, train() 메서드를 사용해 학습을 시켜라.  [ 5점 ]"
   ]
  },
  {
   "cell_type": "code",
   "execution_count": null,
   "metadata": {},
   "outputs": [],
   "source": [
    "xdata = np.array([[0,0], [0,1], [1,0], [1,1]])\n",
    "tdata = np.array([0,0,0,1])\n",
    "and_obj = LogicGate(\"AND\", xdata, tdata)\n",
    "and_obj.train()"
   ]
  },
  {
   "cell_type": "markdown",
   "metadata": {},
   "source": [
    "### 2-5 위에서 데이터 학습이 잘 되었다면, predict()메서드를 활용하여 (0,0), (0,1), (1,0), (1,1) 입력 값에 대해서 결과 값이 제대로 나오는지 검증하라. [ 4점 ]"
   ]
  },
  {
   "cell_type": "code",
   "execution_count": null,
   "metadata": {},
   "outputs": [],
   "source": [
    "test_data = np.array([[0,0], [0,1], [1,0], [1,1]])\n",
    "for data in test_data:\n",
    "    print(and_obj.predict(data))"
   ]
  },
  {
   "cell_type": "code",
   "execution_count": null,
   "metadata": {},
   "outputs": [],
   "source": []
  }
 ],
 "metadata": {
  "kernelspec": {
   "display_name": "Python 3",
   "language": "python",
   "name": "python3"
  },
  "language_info": {
   "codemirror_mode": {
    "name": "ipython",
    "version": 3
   },
   "file_extension": ".py",
   "mimetype": "text/x-python",
   "name": "python",
   "nbconvert_exporter": "python",
   "pygments_lexer": "ipython3",
   "version": "3.8.3"
  }
 },
 "nbformat": 4,
 "nbformat_minor": 2
}
