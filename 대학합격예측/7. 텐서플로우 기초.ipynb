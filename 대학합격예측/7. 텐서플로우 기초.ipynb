{
 "cells": [
  {
   "cell_type": "markdown",
   "metadata": {},
   "source": [
    "#### 참고\n",
    "\n",
    "+ 텐서플로우 사이트 \n",
    "\n",
    "\n",
    "#### 가상환경 준비\n",
    "\n",
    "+ conda create -n 가상환경이름\n",
    "    - conda create -n tf1 python=3.8 anaconda\n",
    "\n",
    "+ activate 가상환경이름\n",
    "+ conda deactivate\n",
    "\n",
    "#### 설치\n",
    "+ pip install tensorflow\n",
    "+ pip install tensorflow==1.15.0\n",
    "+ conda install tensorflow==1.15.0\n",
    "\n",
    "#### 특징\n",
    "+ 구글에서 만든 오픈소스 머신러닝 프레임워크\n",
    "+ 다양한언어를 제공하며 파이선이 가장 많이 사용됨\n",
    "+ 기본적으로 텐서를 활용한 그래프 수치 연산을 하는 도구\n",
    "\n",
    "#### 기본 용어\n",
    "+ 그래프 : 수학적인 의미에서 노드와 엣지로 구성된 기하 모형\n",
    "+ 노드(node) : 연산및 데이터 정의 \n",
    "+ 엣지(edge) : 노드를 연결하는 선(데이터의 흐름)\n",
    "+ 텐서(tensor) : 다차원 데이터 배열\n",
    "+ 세션(session) : 그래프르르 실행시키기 위해 필요한 객체"
   ]
  },
  {
   "cell_type": "code",
   "execution_count": 2,
   "metadata": {},
   "outputs": [
    {
     "name": "stdout",
     "output_type": "stream",
     "text": [
      "2.3.1\n"
     ]
    }
   ],
   "source": [
    "import tensorflow as tf \n",
    "print(tf.__version__)"
   ]
  },
  {
   "cell_type": "code",
   "execution_count": 3,
   "metadata": {},
   "outputs": [
    {
     "name": "stdout",
     "output_type": "stream",
     "text": [
      "3.8.3 (default, Jul  2 2020, 17:30:36) [MSC v.1916 64 bit (AMD64)]\n"
     ]
    }
   ],
   "source": [
    "import sys\n",
    "print(sys.version)"
   ]
  },
  {
   "cell_type": "markdown",
   "metadata": {},
   "source": [
    "### 1. 텐서\n",
    "\n",
    "0D텐서, 1D첸서, 2D텐서, 3D텐서, 고차원 텐서"
   ]
  },
  {
   "cell_type": "code",
   "execution_count": 6,
   "metadata": {},
   "outputs": [
    {
     "data": {
      "text/plain": [
       "dtype('int32')"
      ]
     },
     "execution_count": 6,
     "metadata": {},
     "output_type": "execute_result"
    }
   ],
   "source": [
    "import numpy as np\n",
    "\n",
    "# 0D 텐서 : 스칼라\n",
    "\n",
    "x = np.array(10)\n",
    "x\n",
    "x.ndim\n",
    "x.shape\n",
    "x.dtype"
   ]
  },
  {
   "cell_type": "code",
   "execution_count": null,
   "metadata": {},
   "outputs": [],
   "source": [
    "# 3D텐서, 고차원 텐서\n",
    "#  딥러닝에서는 0D ~ 4D(주로 이미지용)까지 주로 사용\n",
    "# 동여상을 다룰때에는 5D 텐서가지 사용\n",
    "\n",
    "# 자주 사용하는 속성\n",
    "    # 1, 축의 개수(rank) : ndim\n",
    "    # 2. 크기 : shape\n",
    "    # 3. 타입 : dtype"
   ]
  },
  {
   "cell_type": "markdown",
   "metadata": {},
   "source": [
    "### 2. 기본구성 요소\n",
    "\n",
    "+ placeholder() : 함수\n",
    "+ constant() : 함수\n",
    "+ Variable() : 클래스 \n",
    "\n",
    "\n",
    "+ "
   ]
  },
  {
   "cell_type": "markdown",
   "metadata": {},
   "source": [
    "#### 1) constant\n",
    "\n",
    "+ 절대 변하지 않느 상수를 의미\n",
    "+ 자체적으로 그래프를 가진다.\n",
    "+ 메서드"
   ]
  },
  {
   "cell_type": "code",
   "execution_count": 9,
   "metadata": {},
   "outputs": [
    {
     "name": "stdout",
     "output_type": "stream",
     "text": [
      "tf.Tensor(10, shape=(), dtype=int32)\n",
      "tf.Tensor(20, shape=(), dtype=int32)\n",
      "tf.Tensor(30, shape=(), dtype=int32)\n"
     ]
    }
   ],
   "source": [
    "a = tf.constant(10)\n",
    "print(a)\n",
    "\n",
    "b = tf.constant(20)\n",
    "print(b)\n",
    "\n",
    "c = tf.add(a, b)\n",
    "print(c)"
   ]
  },
  {
   "cell_type": "code",
   "execution_count": 13,
   "metadata": {},
   "outputs": [
    {
     "name": "stdout",
     "output_type": "stream",
     "text": [
      "b'HelloWorld!'\n"
     ]
    }
   ],
   "source": [
    "with tf.compat.v1.Session() as sess:\n",
    "    h = tf.constant(\"Hello\")\n",
    "    w = tf.constant(\"World!\")\n",
    "    hw = h + w\n",
    "    ans = sess.run(hw)\n",
    "    print(ans)\n"
   ]
  },
  {
   "cell_type": "code",
   "execution_count": null,
   "metadata": {},
   "outputs": [],
   "source": [
    "tf.summary.FileterWriter(\"log_dir\", ) # 현재 위치에 폴더 만들어짐\n"
   ]
  },
  {
   "cell_type": "code",
   "execution_count": null,
   "metadata": {},
   "outputs": [],
   "source": [
    "# (5 + 2) * 3\n",
    "\n",
    "a = tf.constant([5])\n",
    "b = tf.constant([2])\n",
    "\n",
    "c = tf.add(a, b)\n",
    "d = tf.constant([3])\n",
    "\n",
    "e = tf.multiply(c, d)\n",
    "# 여기까지 그래프만 만든 것!\n"
   ]
  },
  {
   "cell_type": "markdown",
   "metadata": {},
   "source": [
    "#### 2) Variable\n",
    "\n",
    "+ 객체로 정의되어 있다.\n",
    "+ weight(가중치)를 저장하는 변수\n",
    "+ 사용 전에 반드시 초기화 (Variables_initialize() 호출)"
   ]
  },
  {
   "cell_type": "code",
   "execution_count": 14,
   "metadata": {},
   "outputs": [
    {
     "name": "stdout",
     "output_type": "stream",
     "text": [
      "tf.Tensor([10], shape=(1,), dtype=int32)\n"
     ]
    }
   ],
   "source": [
    "v1 = tf.Variable(initial_value=[5])\n",
    "v2 = tf.Variable([3]) # 같은 방법\n",
    "v3 = tf.Variable([2])\n",
    "\n",
    "v4 = v1 + v2 + v3\n",
    "print(v4)"
   ]
  },
  {
   "cell_type": "markdown",
   "metadata": {},
   "source": [
    "#### 3) placeholder\n",
    "+ 그래프를 만들지 않는다.\n",
    "+ 입력된 데이터를 텐서와 매핑하는 역활"
   ]
  },
  {
   "cell_type": "code",
   "execution_count": null,
   "metadata": {},
   "outputs": [],
   "source": [
    "p1 = tf.placeholder(dtype=tf.float32)\n",
    "p2 = tf.placeholder(dtype=tf.float32)               \n",
    "p3 = tf.placeholder(dtype=tf.float32)\n",
    "\n",
    "result = p1 + p2 + p3"
   ]
  },
  {
   "cell_type": "code",
   "execution_count": null,
   "metadata": {},
   "outputs": [],
   "source": [
    "v1 = 5\n",
    "v2 = 3\n",
    "v3 = 2\n",
    "\n"
   ]
  },
  {
   "cell_type": "code",
   "execution_count": null,
   "metadata": {},
   "outputs": [],
   "source": []
  },
  {
   "cell_type": "code",
   "execution_count": null,
   "metadata": {},
   "outputs": [],
   "source": []
  },
  {
   "cell_type": "code",
   "execution_count": null,
   "metadata": {},
   "outputs": [],
   "source": []
  },
  {
   "cell_type": "code",
   "execution_count": null,
   "metadata": {},
   "outputs": [],
   "source": []
  },
  {
   "cell_type": "code",
   "execution_count": null,
   "metadata": {},
   "outputs": [],
   "source": []
  },
  {
   "cell_type": "code",
   "execution_count": null,
   "metadata": {},
   "outputs": [],
   "source": []
  },
  {
   "cell_type": "code",
   "execution_count": null,
   "metadata": {},
   "outputs": [],
   "source": []
  },
  {
   "cell_type": "code",
   "execution_count": null,
   "metadata": {},
   "outputs": [],
   "source": []
  },
  {
   "cell_type": "code",
   "execution_count": null,
   "metadata": {},
   "outputs": [],
   "source": []
  },
  {
   "cell_type": "code",
   "execution_count": null,
   "metadata": {},
   "outputs": [],
   "source": []
  },
  {
   "cell_type": "code",
   "execution_count": null,
   "metadata": {},
   "outputs": [],
   "source": []
  }
 ],
 "metadata": {
  "kernelspec": {
   "display_name": "Python 3",
   "language": "python",
   "name": "python3"
  },
  "language_info": {
   "codemirror_mode": {
    "name": "ipython",
    "version": 3
   },
   "file_extension": ".py",
   "mimetype": "text/x-python",
   "name": "python",
   "nbconvert_exporter": "python",
   "pygments_lexer": "ipython3",
   "version": "3.8.3"
  }
 },
 "nbformat": 4,
 "nbformat_minor": 4
}
