{
 "cells": [
  {
   "cell_type": "markdown",
   "metadata": {},
   "source": [
    "# Recurrent Neural Networks (순환 신경망)\n",
    "- https://hunkim.github.io/ml/\n",
    "\n",
    "### LSTM \n",
    "+ BackPropagation Through Time(BPTT)\n",
    "    - Gradient Vanishing\n",
    "    - Gradient Exploding\n",
    "    "
   ]
  },
  {
   "cell_type": "code",
   "execution_count": 2,
   "metadata": {},
   "outputs": [],
   "source": [
    "import tensorflow as tf\n",
    "import numpy as np\n",
    "import pandas as pd\n",
    "import matplotlib.pylab as plt\n",
    "import sys"
   ]
  },
  {
   "cell_type": "markdown",
   "metadata": {},
   "source": [
    "#### Simple Model을 통한 계산 처리 과정 : 기본 사용법"
   ]
  },
  {
   "cell_type": "code",
   "execution_count": 3,
   "metadata": {},
   "outputs": [],
   "source": [
    "# 입력 데이터 준비\n",
    "\n",
    "inputs = np.array([[[1,2]]])"
   ]
  },
  {
   "cell_type": "code",
   "execution_count": 4,
   "metadata": {
    "collapsed": true
   },
   "outputs": [
    {
     "ename": "AttributeError",
     "evalue": "module 'tensorflow' has no attribute 'reset_default_graph'",
     "output_type": "error",
     "traceback": [
      "\u001b[1;31m---------------------------------------------------------------------------\u001b[0m",
      "\u001b[1;31mAttributeError\u001b[0m                            Traceback (most recent call last)",
      "\u001b[1;32m<ipython-input-4-83eafacbf22b>\u001b[0m in \u001b[0;36m<module>\u001b[1;34m\u001b[0m\n\u001b[1;32m----> 1\u001b[1;33m \u001b[0mtf\u001b[0m\u001b[1;33m.\u001b[0m\u001b[0mreset_default_graph\u001b[0m\u001b[1;33m(\u001b[0m\u001b[1;33m)\u001b[0m\u001b[1;33m\u001b[0m\u001b[1;33m\u001b[0m\u001b[0m\n\u001b[0m\u001b[0;32m      2\u001b[0m \u001b[0mtf\u001b[0m\u001b[1;33m.\u001b[0m\u001b[0mset_random_seed\u001b[0m\u001b[1;33m(\u001b[0m\u001b[1;36m777\u001b[0m\u001b[1;33m)\u001b[0m\u001b[1;33m\u001b[0m\u001b[1;33m\u001b[0m\u001b[0m\n\u001b[0;32m      3\u001b[0m \u001b[0mtf\u001b[0m\u001b[1;33m.\u001b[0m\u001b[0m_inputs\u001b[0m \u001b[1;33m=\u001b[0m \u001b[0mtf\u001b[0m\u001b[1;33m.\u001b[0m\u001b[0mconstant\u001b[0m\u001b[1;33m(\u001b[0m\u001b[0minputs\u001b[0m\u001b[1;33m,\u001b[0m \u001b[0mdtype\u001b[0m\u001b[1;33m=\u001b[0m\u001b[0mtf\u001b[0m\u001b[1;33m.\u001b[0m\u001b[0mfloat32\u001b[0m\u001b[1;33m)\u001b[0m\u001b[1;33m\u001b[0m\u001b[1;33m\u001b[0m\u001b[0m\n",
      "\u001b[1;31mAttributeError\u001b[0m: module 'tensorflow' has no attribute 'reset_default_graph'"
     ]
    }
   ],
   "source": [
    "tf.reset_default_graph()\n",
    "tf.set_random_seed(777)\n",
    "tf._inputs = tf.constant(inputs, dtype=tf.float32)"
   ]
  },
  {
   "cell_type": "code",
   "execution_count": null,
   "metadata": {},
   "outputs": [],
   "source": [
    "# 결과값 : 3의 matrix 출력([6,7,8]과 같은)\n",
    "\n",
    "rnn_cell = tf.nn.rnn_cell.BasicRNNCell(num_units=3) # 기본 사각형 베이스\n",
    "outputs, state = tf.nn.dynamic_rnn(cell=rnn_cell, dtype=tf.float32, \n",
    "                                   inputs=tf_inputs)\n",
    "print(outputs)\n",
    "print(state)\n",
    "\n",
    "# 가중치\n",
    "print(\"\\n\\n Weight\")\n",
    "for w in tf.get_collection(tf.GraphKeys.TRAINABLE_VARIABLES):\n",
    "    print(w)"
   ]
  },
  {
   "cell_type": "code",
   "execution_count": null,
   "metadata": {},
   "outputs": [],
   "source": [
    "with tf.Session() as sess:\n",
    "    sess.run(tf.global_variables_initializer())\n",
    "    output_run.state_run = sess.run([outputs, state])\n",
    "    print(\"Output Valuee :\")\n",
    "    pritn(output_run)\n",
    "    \n",
    "    print(\"State Value\")\n",
    "    print(state_run)\n",
    "    \n",
    "    variables_names = [v.name for v in tf.trainable_variables()]\n",
    "    print(variables_names)\n",
    "    \n",
    "    for k, v in zip(variables_names, values):\n",
    "        print(k, v)\n",
    "    "
   ]
  },
  {
   "cell_type": "markdown",
   "metadata": {},
   "source": [
    "#### 다중 cell"
   ]
  },
  {
   "cell_type": "code",
   "execution_count": null,
   "metadata": {},
   "outputs": [],
   "source": [
    "# I work at google = [[1,0,0,0],[0,1,0,0], [0,0,1,0],[0,0,0,1]]\n",
    "# I google at work = [[1,0,0,0], [0,0,0,1],[0,0,1,0],[0,1,0,0]]\n",
    "\n",
    "inputs = np.array([[[1,0,0,0],[0,1,0,0], [0,0,1,0],[0,0,0,1]],\n",
    "                 [[1,0,0,0], [0,0,0,1],[0,0,1,0],[0,1,0,0]]])"
   ]
  },
  {
   "cell_type": "code",
   "execution_count": null,
   "metadata": {},
   "outputs": [],
   "source": [
    "tf.reset_default_graph()\n",
    "tf.set_random_seed(777)\n",
    "tf._inputs = tf.constant(inputs, dtype=tf.float32)\n",
    "\n",
    "rnn_cell = tf.contrib.rnn.BasicRNNNCell(num_units=3)\n",
    "\n",
    "outputs, state =  tf.nn.dynamic_rnn(rnn_cell, dtype=tf.float32,\n",
    "                                   inputs=tf_inputs)\n",
    "variables_names = [v.name for v in tf.trainable_variables()]\n",
    "print(outputs)\n",
    "print(\"---------------------------------------\")\n",
    "print(state)\n",
    "print(\"---------------------------------------\")\n",
    "for w in tf.get_collection(tf.GraphKeys.TRAINABLE_VARIABLES):\n",
    "    print(w)"
   ]
  },
  {
   "cell_type": "code",
   "execution_count": null,
   "metadata": {},
   "outputs": [],
   "source": []
  },
  {
   "cell_type": "code",
   "execution_count": null,
   "metadata": {},
   "outputs": [],
   "source": [
    "tf.reset_default_graph()\n",
    "h = [1,0,0,0]\n",
    "e = [0,1,0,0]\n",
    "l = [0,0,1,0]\n",
    "o = [0,0,0,1]\n",
    "\n",
    "rnn_cell = tf.contrib.rnn.BasicRNNNCell(num_units=3)\n",
    "x_data = np.array([[h,e,l,l,o]])\n",
    "\n",
    "outputs, state =  tf.nn.dynamic_rnn(rnn_cell, dtype=tf.float32,\n",
    "                                   inputs=tf_inputs)\n",
    "variables_names = [v.name for v in tf.trainable_variables()]\n",
    "print(outputs)\n",
    "print(\"---------------------------------------\")\n",
    "print(state)\n",
    "print(\"---------------------------------------\")\n",
    "for w in tf.get_collection(tf.GraphKeys.TRAINABLE_VARIABLES):\n",
    "    print(w)"
   ]
  },
  {
   "cell_type": "markdown",
   "metadata": {},
   "source": [
    "#### hihello 학습 과정"
   ]
  },
  {
   "cell_type": "code",
   "execution_count": 5,
   "metadata": {},
   "outputs": [],
   "source": [
    "idx2char = ['h', 'i', 'e', 'l', 'o']\n",
    "x_one_hot = [[[1, 0, 0, 0, 0],   # h\n",
    "              [0, 1, 0, 0, 0],   # i\n",
    "              [1, 0, 0, 0, 0],   # h\n",
    "              [0, 0, 1, 0, 0],   # e\n",
    "              [0, 0, 0, 1, 0],   # I\n",
    "              [0, 0, 0, 1, 0],   # l\n",
    "              [0, 0, 0, 0, 1]]]  # o\n",
    "\n",
    "x_data = [[0, 1, 0, 2, 3, 3]] # hihello\n",
    "y_data = [[1, 0, 2, 3, 3, 4]] # ihello\n"
   ]
  },
  {
   "cell_type": "code",
   "execution_count": 6,
   "metadata": {},
   "outputs": [],
   "source": [
    "# parameter\n",
    "sequence_len = 6\n",
    "num_classes = 5\n",
    "batch_size = 1"
   ]
  },
  {
   "cell_type": "code",
   "execution_count": null,
   "metadata": {},
   "outputs": [],
   "source": [
    "tf.reset_default_graph() # 그래프 초기화\n",
    " \n",
    "# X, y 준비\n",
    "X = tf.placeholder(tf.float32, shape=[None, sequence_len,num_classes])\n",
    "y = tf.placeholder(tf.int32, shape=[None,sequence_len])"
   ]
  },
  {
   "cell_type": "code",
   "execution_count": null,
   "metadata": {},
   "outputs": [],
   "source": [
    "# rnn 모델  \n",
    "cell = tf.contrib.rnn.BasicRNNCell(num_classes)\n",
    "outputs, state = tf.nn.dynamic_rnn(cell=cell, inputs=X, dtype=tf.float32)\n",
    "print(outputs)\n",
    "print(state)"
   ]
  },
  {
   "cell_type": "code",
   "execution_count": null,
   "metadata": {},
   "outputs": [],
   "source": [
    "# 평면화(Float Layer)\n",
    "X_for_fc = tf.reshape(outputs, [-1, num_classes])\n",
    "print(X_for_fc)"
   ]
  },
  {
   "cell_type": "code",
   "execution_count": null,
   "metadata": {},
   "outputs": [],
   "source": [
    "# FC (W, b, logit)\n",
    "tf.contrib.layers.fully_connected(inputs=, num_outputs=nun_classes, \n",
    "                                  activation_fn=None)\n",
    "outputs = tf.reshape([batch_size, sequence_len, num_classes])\n",
    "W = tf.ones([batch_size, sequence_len])\n",
    "cost = tf.reduce_mean(tf.contrib.seq2seq.sequence_loss(logits=outputs,\n",
    "                                                       target=y, weight=W))\n",
    "\n",
    "train = tf.train.AdamOptimizer(learning_rate=0.1).minimize(cost)\n",
    "\n",
    "with tf.Session() as sess:\n",
    "    sess.run(tf.global_variables_initializer())\n",
    "    \n",
    "    for i in range(50):\n",
    "        _, c = sess.run([train, cost], feed_dict={X:x_one_hot, y:y_data})\n",
    "        result = sess.run(tf.argmax(outputs, 2), feed_dict={X:x_one_hot})\n",
    "        print(i, \"cost :\", c, \"prediction :\", result, \" 정답\",y_data)\n",
    "        \n",
    "    result_str = [idx2char[c] for c in np.squeeze(result)]\n",
    "    print(\"결과 :\", \", \".join(result_str))"
   ]
  },
  {
   "cell_type": "markdown",
   "metadata": {},
   "source": [
    "#### 두번째 예제"
   ]
  },
  {
   "cell_type": "code",
   "execution_count": 8,
   "metadata": {},
   "outputs": [
    {
     "data": {
      "text/plain": [
       "{'u': 0,\n",
       " 'i': 1,\n",
       " 't': 2,\n",
       " 'w': 3,\n",
       " 'o': 4,\n",
       " 'n': 5,\n",
       " 'y': 6,\n",
       " 'a': 7,\n",
       " ' ': 8,\n",
       " 'f': 9}"
      ]
     },
     "execution_count": 8,
     "metadata": {},
     "output_type": "execute_result"
    }
   ],
   "source": [
    "sample = \"if you want you\"\n",
    "idx2char = list(set(sample))\n",
    "idx2char\n",
    "\n",
    "char2idx = {c: i for i, c in enumerate(idx2char)}\n",
    "char2idx\n",
    "\n",
    "x_data = [sample_idx[:-1]]\n",
    "y_data = [sampel_idx[1:]]"
   ]
  },
  {
   "cell_type": "code",
   "execution_count": 9,
   "metadata": {
    "collapsed": true
   },
   "outputs": [
    {
     "ename": "AttributeError",
     "evalue": "module 'tensorflow' has no attribute 'reset_default_graph'",
     "output_type": "error",
     "traceback": [
      "\u001b[1;31m---------------------------------------------------------------------------\u001b[0m",
      "\u001b[1;31mAttributeError\u001b[0m                            Traceback (most recent call last)",
      "\u001b[1;32m<ipython-input-9-6229c9bb2b7f>\u001b[0m in \u001b[0;36m<module>\u001b[1;34m\u001b[0m\n\u001b[1;32m----> 1\u001b[1;33m \u001b[0mtf\u001b[0m\u001b[1;33m.\u001b[0m\u001b[0mreset_default_graph\u001b[0m\u001b[1;33m(\u001b[0m\u001b[1;33m)\u001b[0m \u001b[1;31m# 그래프 초기화\u001b[0m\u001b[1;33m\u001b[0m\u001b[1;33m\u001b[0m\u001b[0m\n\u001b[0m\u001b[0;32m      2\u001b[0m \u001b[1;33m\u001b[0m\u001b[0m\n\u001b[0;32m      3\u001b[0m \u001b[1;31m# X, y 준비\u001b[0m\u001b[1;33m\u001b[0m\u001b[1;33m\u001b[0m\u001b[1;33m\u001b[0m\u001b[0m\n\u001b[0;32m      4\u001b[0m \u001b[0mX\u001b[0m \u001b[1;33m=\u001b[0m \u001b[0mtf\u001b[0m\u001b[1;33m.\u001b[0m\u001b[0mplaceholder\u001b[0m\u001b[1;33m(\u001b[0m\u001b[0mtf\u001b[0m\u001b[1;33m.\u001b[0m\u001b[0mfloat32\u001b[0m\u001b[1;33m,\u001b[0m \u001b[0mshape\u001b[0m\u001b[1;33m=\u001b[0m\u001b[1;33m[\u001b[0m\u001b[1;32mNone\u001b[0m\u001b[1;33m,\u001b[0m \u001b[0msequence_len\u001b[0m\u001b[1;33m,\u001b[0m\u001b[0mnum_classes\u001b[0m\u001b[1;33m]\u001b[0m\u001b[1;33m)\u001b[0m\u001b[1;33m\u001b[0m\u001b[1;33m\u001b[0m\u001b[0m\n\u001b[0;32m      5\u001b[0m \u001b[0my\u001b[0m \u001b[1;33m=\u001b[0m \u001b[0mtf\u001b[0m\u001b[1;33m.\u001b[0m\u001b[0mplaceholder\u001b[0m\u001b[1;33m(\u001b[0m\u001b[0mtf\u001b[0m\u001b[1;33m.\u001b[0m\u001b[0mint32\u001b[0m\u001b[1;33m,\u001b[0m \u001b[0mshape\u001b[0m\u001b[1;33m=\u001b[0m\u001b[1;33m[\u001b[0m\u001b[1;32mNone\u001b[0m\u001b[1;33m,\u001b[0m\u001b[0msequence_len\u001b[0m\u001b[1;33m]\u001b[0m\u001b[1;33m)\u001b[0m\u001b[1;33m\u001b[0m\u001b[1;33m\u001b[0m\u001b[0m\n",
      "\u001b[1;31mAttributeError\u001b[0m: module 'tensorflow' has no attribute 'reset_default_graph'"
     ]
    }
   ],
   "source": [
    "tf.reset_default_graph() # 그래프 초기화\n",
    " \n",
    "# X, y 준비\n",
    "X = tf.placeholder(tf.float32, shape=[None, sequence_len,num_classes])\n",
    "y = tf.placeholder(tf.int32, shape=[None,sequence_len])\n",
    "\n",
    "x_one_hot = tf.one_hot(X, num_classes)\n",
    "print(x_one_hot)\n",
    "sample_idx = [char2idx[c] for c in sample]\n",
    "print(sample_idx)"
   ]
  },
  {
   "cell_type": "code",
   "execution_count": null,
   "metadata": {},
   "outputs": [],
   "source": [
    "cell = tf.contrib.rnn.BasicRNNCell(num_classes)\n",
    "outputs, state = tf.nn.dynamic_rnn(cell=cell, inputs=X_one_hot, \n",
    "                                   dtype=tf.float32)\n",
    "\n",
    "W = tf.ones([batch_size, sequence_len])\n",
    "cost = tf.reduce_mean(tf.contrib.seq2seq.sequence_loss(logits=outputs,\n",
    "\n",
    "train = tf.train.AdamOptimizer(learning_rate=0.1).minimize(cost)"
   ]
  },
  {
   "cell_type": "code",
   "execution_count": null,
   "metadata": {},
   "outputs": [],
   "source": [
    "with tf.Session() as sess:\n",
    "    sess.run(tf.global_variables_initializer())\n",
    "    \n",
    "    for i in range(100):\n",
    "        _, c = sess.run([train, cost], feed_dict={X:x_data, y:y_data})\n",
    "        result = sess.run(tf.argmax(outputs, 2), feed_dict={X:x_data})\n",
    "        print(i, \"cost :\", c, \"prediction :\", result, \" 정답\",y_data)\n",
    "        \n",
    "    result_str = [idx2char[c] for c in np.squeeze(result)]\n",
    "    print(\"결과 :\", \", \".join(result_str))"
   ]
  },
  {
   "cell_type": "code",
   "execution_count": null,
   "metadata": {},
   "outputs": [],
   "source": []
  },
  {
   "cell_type": "code",
   "execution_count": null,
   "metadata": {},
   "outputs": [],
   "source": []
  },
  {
   "cell_type": "code",
   "execution_count": null,
   "metadata": {},
   "outputs": [],
   "source": []
  },
  {
   "cell_type": "code",
   "execution_count": null,
   "metadata": {},
   "outputs": [],
   "source": []
  },
  {
   "cell_type": "code",
   "execution_count": null,
   "metadata": {},
   "outputs": [],
   "source": []
  },
  {
   "cell_type": "code",
   "execution_count": null,
   "metadata": {},
   "outputs": [],
   "source": []
  },
  {
   "cell_type": "code",
   "execution_count": null,
   "metadata": {},
   "outputs": [],
   "source": []
  }
 ],
 "metadata": {
  "kernelspec": {
   "display_name": "Python 3",
   "language": "python",
   "name": "python3"
  },
  "language_info": {
   "codemirror_mode": {
    "name": "ipython",
    "version": 3
   },
   "file_extension": ".py",
   "mimetype": "text/x-python",
   "name": "python",
   "nbconvert_exporter": "python",
   "pygments_lexer": "ipython3",
   "version": "3.8.3"
  }
 },
 "nbformat": 4,
 "nbformat_minor": 4
}
