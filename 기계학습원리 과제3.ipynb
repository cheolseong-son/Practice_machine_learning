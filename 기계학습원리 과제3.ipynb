{
 "cells": [
  {
   "cell_type": "markdown",
   "metadata": {},
   "source": [
    "## 기계학습원리 201520038_손철성"
   ]
  },
  {
   "cell_type": "code",
   "execution_count": null,
   "metadata": {
    "scrolled": true
   },
   "outputs": [],
   "source": [
    "# 문제 1\n",
    "\n",
    "a = int(input(\"숫자를 입력하세요: \"))\n",
    "b = a + 10\n",
    "print(b)"
   ]
  },
  {
   "cell_type": "code",
   "execution_count": 2,
   "metadata": {},
   "outputs": [
    {
     "name": "stdout",
     "output_type": "stream",
     "text": [
      "좋아하는 과일은? : 귤\n",
      "오답입니다!\n"
     ]
    }
   ],
   "source": [
    "# 문제 2\n",
    "\n",
    "fruit = {\"봄\" : \"딸기\", \"여름\" : \"토마토\", \"가을\" : \"사과\"} \n",
    "a = str(input(\"좋아하는 과일은? : \"))\n",
    "if a in fruit.values():\n",
    "    print(\"정답입니다!\")\n",
    "else:\n",
    "    print(\"오답입니다!\")"
   ]
  },
  {
   "cell_type": "code",
   "execution_count": 3,
   "metadata": {},
   "outputs": [
    {
     "name": "stdout",
     "output_type": "stream",
     "text": [
      "Enter the sentence : create\n",
      "c\n",
      "cr\n",
      "cre\n",
      "crea\n",
      "creat\n",
      "create\n"
     ]
    }
   ],
   "source": [
    "# 문제 3\n",
    "\n",
    "a = str(input(\"Enter the sentence : \"))\n",
    "b = len(a)\n",
    "i = 0\n",
    "while not i == b:\n",
    "    i += 1\n",
    "    print(a[0:i])"
   ]
  },
  {
   "cell_type": "code",
   "execution_count": 7,
   "metadata": {},
   "outputs": [
    {
     "name": "stdout",
     "output_type": "stream",
     "text": [
      "Tree 의 높이를 입력하세요(5~30) : 5\n",
      "    *\n",
      "   ***\n",
      "  *****\n",
      " *******\n",
      "*********\n",
      "   ***\n",
      "   ***\n",
      "   ***\n"
     ]
    }
   ],
   "source": [
    "# Tree 형태\n",
    "\n",
    "line = int(input(\"Tree 의 높이를 입력하세요(5~30) : \"))\n",
    "\n",
    "for x in range(1, line * 2, 2):\n",
    "    print((\" \" * ( (line * 2 - 1 - x) // 2 )) + (\"*\" * x))\n",
    "\n",
    "for y in range(1, 4):\n",
    "    print(\" \" * (line-2) + \"***\")"
   ]
  },
  {
   "cell_type": "code",
   "execution_count": 9,
   "metadata": {
    "scrolled": true
   },
   "outputs": [
    {
     "name": "stdout",
     "output_type": "stream",
     "text": [
      "지수: 90.0\n",
      "해성: 77.33333333333333\n",
      "민수: 95.66666666666667\n",
      "혜림: 89.33333333333333\n",
      "우진: 85.33333333333333\n",
      "지현: 92.0\n",
      "math:  89.16666666666667\n",
      "physics:  85.5\n",
      "coding:  90.16666666666667\n",
      "all_avg:  88.27777777777777\n"
     ]
    }
   ],
   "source": [
    "# 문제 4\n",
    "\n",
    "class Student:\n",
    "    def __init__(self, name, math, physics, coding):\n",
    "        self.name = name\n",
    "        self.math = math\n",
    "        self.physics = physics\n",
    "        self.coding = coding\n",
    "\n",
    "    def average(self):\n",
    "        return float((self.math + self.physics + self.coding) / 3)\n",
    "\n",
    "\n",
    "def classAverage(array):\n",
    "    num_people=len(array)\n",
    "    print('math: ', sum(each.math for each in array) / num_people)\n",
    "    print('physics: ', sum(each.physics for each in array) / num_people)\n",
    "    print('coding: ', sum(each.coding for each in array) / num_people)\n",
    "    print('all_avg: ', sum(each.average() for each in array) / num_people)\n",
    "\n",
    "s1=Student('지수', 94, 93, 83)\n",
    "s2=Student('해성', 78, 61, 93)\n",
    "s3=Student('민수', 100, 89, 98)\n",
    "s4=Student('혜린', 93, 87, 88)\n",
    "s5=Student('우진', 82, 90, 84)\n",
    "s6=Student('지현', 88, 93, 95)\n",
    "\n",
    "class_array = [s1,s2,s3,s4,s5,s6]\n",
    "\n",
    "print('지수:',s1.average())\n",
    "print('해성:',s2.average())\n",
    "print('민수:',s3.average())\n",
    "print('혜림:',s4.average())\n",
    "print('우진:',s5.average())\n",
    "print('지현:',s6.average())\n",
    "\n",
    "classAverage(class_array)"
   ]
  },
  {
   "cell_type": "code",
   "execution_count": 10,
   "metadata": {},
   "outputs": [
    {
     "name": "stdout",
     "output_type": "stream",
     "text": [
      "45,96,89\n"
     ]
    },
    {
     "ename": "TypeError",
     "evalue": "__init__() missing 1 required positional argument: 'coding'",
     "output_type": "error",
     "traceback": [
      "\u001b[1;31m---------------------------------------------------------------------------\u001b[0m",
      "\u001b[1;31mTypeError\u001b[0m                                 Traceback (most recent call last)",
      "\u001b[1;32m<ipython-input-10-d18961476782>\u001b[0m in \u001b[0;36m<module>\u001b[1;34m\u001b[0m\n\u001b[0;32m      2\u001b[0m \u001b[0mt_str\u001b[0m \u001b[1;33m=\u001b[0m \u001b[0mt_str\u001b[0m\u001b[1;33m.\u001b[0m\u001b[0msplit\u001b[0m\u001b[1;33m(\u001b[0m\u001b[1;34m\",\"\u001b[0m\u001b[1;33m)\u001b[0m\u001b[1;33m\u001b[0m\u001b[1;33m\u001b[0m\u001b[0m\n\u001b[0;32m      3\u001b[0m \u001b[0mt_str\u001b[0m \u001b[1;33m=\u001b[0m \u001b[0mlist\u001b[0m\u001b[1;33m(\u001b[0m\u001b[0mmap\u001b[0m\u001b[1;33m(\u001b[0m\u001b[0mint\u001b[0m\u001b[1;33m,\u001b[0m\u001b[0mt_str\u001b[0m\u001b[1;33m)\u001b[0m\u001b[1;33m)\u001b[0m\u001b[1;33m\u001b[0m\u001b[1;33m\u001b[0m\u001b[0m\n\u001b[1;32m----> 4\u001b[1;33m \u001b[0mstudent\u001b[0m \u001b[1;33m=\u001b[0m \u001b[0mStudent\u001b[0m\u001b[1;33m(\u001b[0m\u001b[0mt_str\u001b[0m\u001b[1;33m[\u001b[0m\u001b[1;36m0\u001b[0m\u001b[1;33m]\u001b[0m\u001b[1;33m,\u001b[0m \u001b[0mt_str\u001b[0m\u001b[1;33m[\u001b[0m\u001b[1;36m1\u001b[0m\u001b[1;33m]\u001b[0m\u001b[1;33m,\u001b[0m \u001b[0mt_str\u001b[0m\u001b[1;33m[\u001b[0m\u001b[1;36m2\u001b[0m\u001b[1;33m]\u001b[0m\u001b[1;33m)\u001b[0m\u001b[1;33m\u001b[0m\u001b[1;33m\u001b[0m\u001b[0m\n\u001b[0m\u001b[0;32m      5\u001b[0m \u001b[0mprint\u001b[0m\u001b[1;33m(\u001b[0m\u001b[1;34m\"수학, 물리, 코딩의 총점:{0}\"\u001b[0m\u001b[1;33m.\u001b[0m\u001b[0mformat\u001b[0m\u001b[1;33m(\u001b[0m\u001b[0mstudent\u001b[0m\u001b[1;33m.\u001b[0m\u001b[0mget_total\u001b[0m\u001b[1;33m(\u001b[0m\u001b[1;33m)\u001b[0m\u001b[1;33m)\u001b[0m\u001b[1;33m)\u001b[0m\u001b[1;33m\u001b[0m\u001b[1;33m\u001b[0m\u001b[0m\n",
      "\u001b[1;31mTypeError\u001b[0m: __init__() missing 1 required positional argument: 'coding'"
     ]
    }
   ],
   "source": [
    "t_str = input()\n",
    "t_str = t_str.split(\",\")\n",
    "t_str = list(map(int,t_str))\n",
    "student = Student(t_str[0], t_str[1], t_str[2])\n",
    "print(\"수학, 물리, 코딩의 총점:{0}\".format(student.get_total()))\n"
   ]
  },
  {
   "cell_type": "code",
   "execution_count": 13,
   "metadata": {},
   "outputs": [
    {
     "name": "stdout",
     "output_type": "stream",
     "text": [
      " ** 성적표 ** \n",
      "********************************************\n",
      "이름   수학   과학   영어  총점   평균\n",
      "********************************************\n",
      "학생1    96    89    92   277     92.3\n",
      "학생2    88    79    71   238     79.3\n",
      "학생3    45    24    51   120     40.0\n",
      "학생4    100    100    100   300     100.0\n",
      "학생5    65    88    71   224     74.7\n",
      "학생6    81    85    90   256     85.3\n",
      "학생7    61    71    57   189     63.0\n",
      "학생8    73    95    98   266     88.7\n",
      "학생9    91    100    93   284     94.7\n",
      "학생10    59    53    66   178     59.3\n",
      "*********************************************\n",
      "평균 :  75.9   78.4   78.9        77.7\n"
     ]
    }
   ],
   "source": [
    "# 과제 5\n",
    "a = []\n",
    "f = open(\"C:\\Temp\\ss.txt\", \"r\", encoding=\"utf-8\")\n",
    "for i in range(10):\n",
    "    a.append(f.readline().split(\",\"))\n",
    "\n",
    "for i in range(10):\n",
    "    a[i][1] = int(a[i][1])\n",
    "    a[i][2] = int(a[i][2])\n",
    "    a[i][3] = int(a[i][3])\n",
    "    a[i].append(a[i][1]+a[i][2]+a[i][3])   # 총점\n",
    "    a[i].append(a[i][4]/3)                #평균\n",
    "    \n",
    "eng = 0; mat = 0; sci = 0;\n",
    "for i in range(10):\n",
    "    mat = mat + a[i][1]  # 수학점수 총점\n",
    "    sci = sci + a[i][2]  # 과학점수 총점\n",
    "    eng = eng + a[i][3]  # 영어점수 총점\n",
    "\n",
    "print(\" ** 성적표 ** \")\n",
    "print(\"********************************************\")\n",
    "print(\"이름   수학   과학   영어  총점   평균\")\n",
    "print(\"********************************************\")\n",
    "for i in range(10):\n",
    "    print(\"{}    {}    {}    {}   {}     {:.1f}\".\n",
    "          format( a[i][0],a[i][1],a[i][2],a[i][3],a[i][4],a[i][5]))\n",
    "    \n",
    "print(\"*********************************************\")\n",
    "\n",
    "print(\"평균 :  {:.1f}   {:.1f}   {:.1f}        {:.1f}\".\n",
    "      format(mat/10, sci/10, eng/10, (mat+sci+eng)/30))       #과목 평균"
   ]
  },
  {
   "cell_type": "code",
   "execution_count": null,
   "metadata": {},
   "outputs": [],
   "source": []
  }
 ],
 "metadata": {
  "kernelspec": {
   "display_name": "Python 3",
   "language": "python",
   "name": "python3"
  },
  "language_info": {
   "codemirror_mode": {
    "name": "ipython",
    "version": 3
   },
   "file_extension": ".py",
   "mimetype": "text/x-python",
   "name": "python",
   "nbconvert_exporter": "python",
   "pygments_lexer": "ipython3",
   "version": "3.8.3"
  }
 },
 "nbformat": 4,
 "nbformat_minor": 4
}
