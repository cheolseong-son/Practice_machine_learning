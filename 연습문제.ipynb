{
 "cells": [
  {
   "cell_type": "markdown",
   "metadata": {},
   "source": [
    "# <center> <기계학습의 원리> 연습문제 </center>"
   ]
  },
  {
   "cell_type": "markdown",
   "metadata": {},
   "source": [
    "     \n",
    "        \n",
    "         \n",
    "         \n",
    "         \n",
    "         \n",
    "         "
   ]
  },
  {
   "cell_type": "markdown",
   "metadata": {},
   "source": [
    "### 아이리스는 꽃잎의 모양과 길이에 따라 여러가지 품종으로 나뉜다. iris.csv 파일에는 다음과 같이 150개의 아이리스 정보와 품종에 대한 데이터가 나열되어 있다.\n",
    "|                | 정보1 | 정보2 | 정보3 | 정보4 | 품종           |\n",
    "|--------\t     |------ |------ |------ |------ |------          |\n",
    "| 1번째 아이리스 | 5.1   | 3.5   | 4.0   | 0.2   | Iris-setosa    |\n",
    "| 2번째 아이리스 | 4.9   | 3.0   | 1.4   | 0.2   | Iris-setosa    |\n",
    "| 3번째 아이리스 | 4.7   | 3.2   | 1.3   | 0.3   | Iris-setosa    |\n",
    "|  ...           | ...   | ...   | ...   | ...   | ...            |\n",
    "|150번째 아이리스| 5.9   | 3.0   | 5.1   | 1.8   | Iris-virginica |\n",
    "\n",
    "* 샘플 수: 150\n",
    "* 속성 수: 4\n",
    " \n",
    "  > 정보 1: 꽃받침 길이 (단위: cm)\n",
    "  \n",
    "  > 정보 2: 꽃받침 너비 (단위: cm)\n",
    "\n",
    "  > 정보 3: 꽃잎 길이 (단위: cm)\n",
    "\n",
    "  > 정보 4: 꽃잎 너비 (단위: cm)\n",
    "* 클래스: Iris-setosa, Iris-versicolor, Iris-virginica\n",
    "\n",
    "### (1) 이 데이터에서 150개의 샘플을 무작위로 섞은 후(Hint: tensorflow의 shuffle함수를 사용할 것) 임의로 100개의 샘플을 뽑아서 다중분류 알고리즘을 작성하고 이를 학습하여라. \n",
    "### (2) 나머지 50개의 데이터로 기 작성된 알고리즘의 정확도(accuracy)를 계산하여 출력하라. (이때 최대한 정확도를 높일수록 높은 점수가 부여된다. )"
   ]
  },
  {
   "cell_type": "code",
   "execution_count": null,
   "metadata": {},
   "outputs": [],
   "source": [
    "  # https://jfun.tistory.com/43"
   ]
  },
  {
   "cell_type": "code",
   "execution_count": 1,
   "metadata": {},
   "outputs": [],
   "source": [
    "from sklearn.datasets import load_iris"
   ]
  },
  {
   "cell_type": "code",
   "execution_count": 2,
   "metadata": {},
   "outputs": [],
   "source": [
    "from sklearn.metrics import accuracy_score\n",
    "import numpy as np\n",
    "import pandas as pd\n",
    "#loading the iris dataset\n",
    "iris = load_iris()"
   ]
  },
  {
   "cell_type": "code",
   "execution_count": 3,
   "metadata": {},
   "outputs": [],
   "source": [
    "#training data 설정\n",
    "x_train = iris.data[:-30]\n",
    "y_train = iris.target[:-30]\n",
    "\n",
    "#test data 설정\n",
    "x_test = iris.data[-30:] # test feature data\n",
    "y_test = iris.target[-30:] # test feature data"
   ]
  },
  {
   "cell_type": "code",
   "execution_count": 4,
   "metadata": {},
   "outputs": [
    {
     "name": "stdout",
     "output_type": "stream",
     "text": [
      "[0 0 0 0 0 0 0 0 0 0 0 0 0 0 0 0 0 0 0 0 0 0 0 0 0 0 0 0 0 0 0 0 0 0 0 0 0\n",
      " 0 0 0 0 0 0 0 0 0 0 0 0 0 1 1 1 1 1 1 1 1 1 1 1 1 1 1 1 1 1 1 1 1 1 1 1 1\n",
      " 1 1 1 1 1 1 1 1 1 1 1 1 1 1 1 1 1 1 1 1 1 1 1 1 1 1 2 2 2 2 2 2 2 2 2 2 2\n",
      " 2 2 2 2 2 2 2 2 2]\n",
      "[2 2 2 2 2 2 2 2 2 2 2 2 2 2 2 2 2 2 2 2 2 2 2 2 2 2 2 2 2 2]\n"
     ]
    }
   ],
   "source": [
    "print(y_train)\n",
    "print(y_test)"
   ]
  },
  {
   "cell_type": "code",
   "execution_count": 5,
   "metadata": {},
   "outputs": [],
   "source": [
    "#RandomForestClassifier 클래스를 import\n",
    "from sklearn.ensemble import RandomForestClassifier"
   ]
  },
  {
   "cell_type": "code",
   "execution_count": 6,
   "metadata": {},
   "outputs": [
    {
     "data": {
      "text/plain": [
       "RandomForestClassifier(n_estimators=10)"
      ]
     },
     "execution_count": 6,
     "metadata": {},
     "output_type": "execute_result"
    }
   ],
   "source": [
    "#tree의 개수 Random Forest 분류 모듈 생성\n",
    "rfc = RandomForestClassifier(n_estimators=10)\n",
    "rfc"
   ]
  },
  {
   "cell_type": "code",
   "execution_count": 7,
   "metadata": {},
   "outputs": [
    {
     "name": "stdout",
     "output_type": "stream",
     "text": [
      "[ True False  True False  True  True False False  True  True  True  True\n",
      "  True False False  True  True  True False  True  True  True  True  True\n",
      "  True  True  True  True  True False]\n"
     ]
    },
    {
     "data": {
      "text/plain": [
       "0.7333333333333333"
      ]
     },
     "execution_count": 7,
     "metadata": {},
     "output_type": "execute_result"
    }
   ],
   "source": [
    "# rfc.fin()에 훈련 데이터를 입력해 Random Forest 모듈을 학습\n",
    "rfc.fit(x_train, y_train)\n",
    "#Test data를 입력해 target data를 예측 (매번 달라짐)\n",
    "prediction = rfc.predict(x_test)\n",
    "#예측 결과 precision과 실제 test data의 target을 비교\n",
    "print(prediction==y_test)\n",
    "\n",
    "#Random forest 정확도 측정\n",
    "rfc.score(x_test, y_test)"
   ]
  },
  {
   "cell_type": "code",
   "execution_count": 8,
   "metadata": {},
   "outputs": [],
   "source": [
    "from sklearn.metrics import accuracy_score\n",
    "from sklearn.metrics import classification_report"
   ]
  },
  {
   "cell_type": "code",
   "execution_count": 9,
   "metadata": {},
   "outputs": [
    {
     "name": "stdout",
     "output_type": "stream",
     "text": [
      "Accuracy is:  0.7333333333333333\n",
      "              precision    recall  f1-score   support\n",
      "\n",
      "           1       0.00      0.00      0.00         8\n",
      "           2       0.73      1.00      0.85        22\n",
      "\n",
      "    accuracy                           0.73        30\n",
      "   macro avg       0.37      0.50      0.42        30\n",
      "weighted avg       0.54      0.73      0.62        30\n",
      "\n"
     ]
    },
    {
     "name": "stderr",
     "output_type": "stream",
     "text": [
      "C:\\Users\\USER\\anaconda3\\lib\\site-packages\\sklearn\\metrics\\_classification.py:1221: UndefinedMetricWarning: Precision and F-score are ill-defined and being set to 0.0 in labels with no predicted samples. Use `zero_division` parameter to control this behavior.\n",
      "  _warn_prf(average, modifier, msg_start, len(result))\n"
     ]
    }
   ],
   "source": [
    "print(\"Accuracy is: \", accuracy_score(prediction, y_test))\n",
    "print(classification_report(prediction, y_test))"
   ]
  },
  {
   "cell_type": "code",
   "execution_count": 10,
   "metadata": {},
   "outputs": [],
   "source": [
    "from sklearn.model_selection import train_test_split\n",
    "\n",
    "x = iris.data\n",
    "y = iris.target\n",
    "\n",
    "\n",
    "X_train, X_test, Y_train, Y_test = train_test_split(x, y, test_size=0.2)\n"
   ]
  },
  {
   "cell_type": "code",
   "execution_count": 11,
   "metadata": {},
   "outputs": [
    {
     "name": "stdout",
     "output_type": "stream",
     "text": [
      "[2 2 2 2 2 2 2 2 2 2 2 2 2 2 2 2 2 2 2 2 2 2 2 2 2 2 2 2 2 2]\n",
      "[2 0 2 0 1 2 2 1 2 0 0 2 2 2 1 2 0 1 1 1 1 0 2 2 0 0 0 2 1 1]\n"
     ]
    }
   ],
   "source": [
    "print(y_test)\n",
    "print(Y_test)"
   ]
  },
  {
   "cell_type": "code",
   "execution_count": 12,
   "metadata": {},
   "outputs": [
    {
     "name": "stdout",
     "output_type": "stream",
     "text": [
      "Accuracy is:  0.9333333333333333\n",
      "              precision    recall  f1-score   support\n",
      "\n",
      "           0       1.00      1.00      1.00         9\n",
      "           1       1.00      0.82      0.90        11\n",
      "           2       0.83      1.00      0.91        10\n",
      "\n",
      "    accuracy                           0.93        30\n",
      "   macro avg       0.94      0.94      0.94        30\n",
      "weighted avg       0.94      0.93      0.93        30\n",
      "\n"
     ]
    }
   ],
   "source": [
    "clf = RandomForestClassifier(n_estimators=10)\n",
    "clf.fit(X_train, Y_train) # X_train과 Y_train을 입력해 모듈을 학습 시킨다.\n",
    "prediction_1 = rfc.predict(X_test)\n",
    "\n",
    "#print(prediction_1 == Y_test)\n",
    "print(\"Accuracy is: \", accuracy_score(prediction_1, Y_test))\n",
    "\n",
    "print(classification_report(prediction_1, Y_test))"
   ]
  },
  {
   "cell_type": "code",
   "execution_count": 13,
   "metadata": {},
   "outputs": [],
   "source": [
    "# Initialize the model\n",
    "clf_2 = RandomForestClassifier(n_estimators=200,     # Number of trees\n",
    "                              max_features=4,     # Num features considered\n",
    "                              oob_score=True)     # Use OOB scoring\n"
   ]
  },
  {
   "cell_type": "code",
   "execution_count": 14,
   "metadata": {},
   "outputs": [
    {
     "name": "stdout",
     "output_type": "stream",
     "text": [
      "[False  True  True  True  True  True  True  True  True  True  True  True\n",
      "  True  True  True False  True  True  True  True  True  True  True  True\n",
      "  True  True  True False  True  True]\n",
      "Accuracy is :  0.9\n",
      "======================================================\n",
      "              precision    recall  f1-score   support\n",
      "\n",
      "           0       1.00      1.00      1.00         9\n",
      "           1       1.00      0.75      0.86        12\n",
      "           2       0.75      1.00      0.86         9\n",
      "\n",
      "    accuracy                           0.90        30\n",
      "   macro avg       0.92      0.92      0.90        30\n",
      "weighted avg       0.93      0.90      0.90        30\n",
      "\n"
     ]
    }
   ],
   "source": [
    "clf.fit(X_train, Y_train)\n",
    "prediction_2 = clf.predict(X_test)\n",
    "print(prediction_2 == Y_test)\n",
    "print(\"Accuracy is : \", accuracy_score(prediction_2, Y_test))\n",
    "print(\"======================================================\")\n",
    "print(classification_report(prediction_2, Y_test))"
   ]
  },
  {
   "cell_type": "code",
   "execution_count": null,
   "metadata": {},
   "outputs": [],
   "source": []
  },
  {
   "cell_type": "code",
   "execution_count": null,
   "metadata": {},
   "outputs": [],
   "source": []
  }
 ],
 "metadata": {
  "kernelspec": {
   "display_name": "Python 3",
   "language": "python",
   "name": "python3"
  },
  "language_info": {
   "codemirror_mode": {
    "name": "ipython",
    "version": 3
   },
   "file_extension": ".py",
   "mimetype": "text/x-python",
   "name": "python",
   "nbconvert_exporter": "python",
   "pygments_lexer": "ipython3",
   "version": "3.8.3"
  }
 },
 "nbformat": 4,
 "nbformat_minor": 2
}
