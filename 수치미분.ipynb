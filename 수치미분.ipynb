{
 "cells": [
  {
   "cell_type": "code",
   "execution_count": null,
   "metadata": {},
   "outputs": [],
   "source": [
    "def numerical_derivative(f, x):\n",
    "    delta_x = 1e-4\n",
    "    return (f(x + delta_x) - f(x-delta_x)) / (2*delta_x)\n"
   ]
  },
  {
   "cell_type": "code",
   "execution_count": 1,
   "metadata": {},
   "outputs": [
    {
     "name": "stdout",
     "output_type": "stream",
     "text": [
      "result =  6.000000000012662\n"
     ]
    }
   ],
   "source": [
    "def my_func1(x):\n",
    "    return x**2\n",
    "\n",
    "def numerical_derivative(f, x):\n",
    "    delta_x = 1e-4\n",
    "    return (f(x + delta_x) - f(x-delta_x)) / (2*delta_x)\n",
    "\n",
    "result = numerical_derivative(my_func1, 3)\n",
    "\n",
    "print(\"result = \", result)"
   ]
  },
  {
   "cell_type": "code",
   "execution_count": 3,
   "metadata": {},
   "outputs": [
    {
     "name": "stdout",
     "output_type": "stream",
     "text": [
      "result1 =  66.50150507518049\n"
     ]
    }
   ],
   "source": [
    "import numpy as np\n",
    "\n",
    "def my_func2(x):\n",
    "    return 3*x*(np.exp(x))\n",
    "\n",
    "result1 = numerical_derivative(my_func2, 2)\n",
    "print(\"result1 = \", result1)"
   ]
  },
  {
   "cell_type": "code",
   "execution_count": 15,
   "metadata": {},
   "outputs": [],
   "source": [
    "# 수치미분 최정 버전 \n",
    "\n",
    "import numpy as np\n",
    "\n",
    "def numerical_derivative(f, x):\n",
    "    delta_x = 1e-4\n",
    "    grad = np.zeros_like(x)\n",
    "    \n",
    "    it = np.nditer(x, flags = ['multi_index'], op_flags = ['readwrite'])\n",
    "    \n",
    "    while not it.finished:\n",
    "        idx = it.multi_index\n",
    "        \n",
    "        tmp_val  = x[idx]\n",
    "        x[idx] = float(tmp_val) + delta_x\n",
    "        fx1 = f(x)\n",
    "        \n",
    "        x[idx] = tmp_val - delta_x\n",
    "        fx2 = f(x)\n",
    "        grad[idx] = (fx1 - fx2) / (2*delta_x)\n",
    "        \n",
    "        x[idx] = tmp_val\n",
    "        it.iternext()\n",
    "    return grad\n",
    "        \n",
    "        "
   ]
  },
  {
   "cell_type": "code",
   "execution_count": 16,
   "metadata": {},
   "outputs": [
    {
     "data": {
      "text/plain": [
       "array([10.])"
      ]
     },
     "execution_count": 16,
     "metadata": {},
     "output_type": "execute_result"
    }
   ],
   "source": [
    "def func1(input_obj):\n",
    "    x = input_obj[0]\n",
    "    return x**2\n",
    "\n",
    "numerical_derivative(func1, np.array([5.0]))"
   ]
  },
  {
   "cell_type": "code",
   "execution_count": 17,
   "metadata": {},
   "outputs": [
    {
     "data": {
      "text/plain": [
       "array([ 8.        , 15.00000001])"
      ]
     },
     "execution_count": 17,
     "metadata": {},
     "output_type": "execute_result"
    }
   ],
   "source": [
    "def func2(input_obj):\n",
    "    x = input_obj[0]\n",
    "    y = input_obj[1]\n",
    "    \n",
    "    return (2*x + 3*x*y + np.power(y,3))\n",
    "input = np.array([1.0, 2.0])\n",
    "\n",
    "numerical_derivative(func2, input)"
   ]
  },
  {
   "cell_type": "markdown",
   "metadata": {},
   "source": [
    "## Linear Regression"
   ]
  },
  {
   "cell_type": "code",
   "execution_count": 14,
   "metadata": {},
   "outputs": [
    {
     "name": "stdout",
     "output_type": "stream",
     "text": [
      "W =  [[0.97615349]\n",
      " [0.18406957]] , W.shape =  (2, 1) , b =  [0.0505293] , b.shape =  (1,)\n"
     ]
    }
   ],
   "source": [
    "import numpy as np\n",
    "\n",
    "x_data = np.array([[2,3],[4,3],[6,4],[8,6],[10,7],[12,8],[14,9]])\n",
    "t_data = np.array([0,0,0,1,1,1,1]).reshape(7,1)\n",
    "\n",
    "W = np.random.rand(2,1)\n",
    "b = np.random.rand(1)\n",
    "print(\"W = \",W, \", W.shape = \", W.shape, \", b = \", b, \", b.shape = \", b.shape)\n",
    "\n",
    "def loss_func(x, t):\n",
    "    y = np.dot(x,W) + b\n",
    "    \n",
    "    return (np.sum((t - y)**2)) / (len(x))"
   ]
  },
  {
   "cell_type": "code",
   "execution_count": 15,
   "metadata": {},
   "outputs": [],
   "source": [
    "# 손실 함수 정의\n",
    "\n",
    "def loss_func(x, t):\n",
    "    y = np.dot(x,W) + b\n",
    "    \n",
    "    return (np.sum((t - y)**2)) / (len(x))"
   ]
  },
  {
   "cell_type": "code",
   "execution_count": 16,
   "metadata": {},
   "outputs": [],
   "source": [
    "def error_val(x, t):\n",
    "    y = np.dot(x,W) + b\n",
    "    \n",
    "    return (np.sum((t - y)**2)) / (len(x))\n",
    "\n",
    "def predict(x):\n",
    "    y = np.dot(x,W) + b\n",
    "    return y\n"
   ]
  },
  {
   "cell_type": "code",
   "execution_count": 18,
   "metadata": {},
   "outputs": [],
   "source": [
    "def numerical_derivative(f, x):\n",
    "    delta_x = 1e-4\n",
    "    grad = np.zeros_like(x)\n",
    "    \n",
    "    it = np.nditer(x, flags = ['multi_index'], op_flags = ['readwrite'])\n",
    "    \n",
    "    while not it.finished:\n",
    "        idx = it.multi_index\n",
    "        \n",
    "        tmp_val  = x[idx]\n",
    "        x[idx] = float(tmp_val) + delta_x\n",
    "        fx1 = f(x)\n",
    "        \n",
    "        x[idx] = tmp_val - delta_x\n",
    "        fx2 = f(x)\n",
    "        grad[idx] = (fx1 - fx2) / (2*delta_x)\n",
    "        \n",
    "        x[idx] = tmp_val\n",
    "        it.iternext()\n",
    "    return grad"
   ]
  },
  {
   "cell_type": "code",
   "execution_count": 19,
   "metadata": {},
   "outputs": [
    {
     "name": "stdout",
     "output_type": "stream",
     "text": [
      "initial error value =  84.68101353144736 initial W =  [[0.97615349]\n",
      " [0.18406957]] \n",
      " , b =  [0.0505293]\n",
      "step =  0 error value =  148.68397534795167 W =  [[-0.66896128]\n",
      " [-0.94023378]] , b =  [0.27543638]\n",
      "step =  400 error value =  2.2659978817770826e+24 W =  [[ 1.23314497e+12]\n",
      " [-1.65397633e+12]] , b =  [5.50716232e+10]\n",
      "step =  800 error value =  2.2659978817770826e+24 W =  [[ 1.23314497e+12]\n",
      " [-1.65397633e+12]] , b =  [5.50716232e+10]\n",
      "step =  1200 error value =  2.2659978817770826e+24 W =  [[ 1.23314497e+12]\n",
      " [-1.65397633e+12]] , b =  [5.50716232e+10]\n",
      "step =  1600 error value =  2.2659978817770826e+24 W =  [[ 1.23314497e+12]\n",
      " [-1.65397633e+12]] , b =  [5.50716232e+10]\n",
      "step =  2000 error value =  2.2659978817770826e+24 W =  [[ 1.23314497e+12]\n",
      " [-1.65397633e+12]] , b =  [5.50716232e+10]\n",
      "step =  2400 error value =  2.2659978817770826e+24 W =  [[ 1.23314497e+12]\n",
      " [-1.65397633e+12]] , b =  [5.50716232e+10]\n",
      "step =  2800 error value =  2.2659978817770826e+24 W =  [[ 1.23314497e+12]\n",
      " [-1.65397633e+12]] , b =  [5.50716232e+10]\n",
      "step =  3200 error value =  2.2659978817770826e+24 W =  [[ 1.23314497e+12]\n",
      " [-1.65397633e+12]] , b =  [5.50716232e+10]\n",
      "step =  3600 error value =  2.2659978817770826e+24 W =  [[ 1.23314497e+12]\n",
      " [-1.65397633e+12]] , b =  [5.50716232e+10]\n",
      "step =  4000 error value =  2.2659978817770826e+24 W =  [[ 1.23314497e+12]\n",
      " [-1.65397633e+12]] , b =  [5.50716232e+10]\n",
      "step =  4400 error value =  2.2659978817770826e+24 W =  [[ 1.23314497e+12]\n",
      " [-1.65397633e+12]] , b =  [5.50716232e+10]\n",
      "step =  4800 error value =  2.2659978817770826e+24 W =  [[ 1.23314497e+12]\n",
      " [-1.65397633e+12]] , b =  [5.50716232e+10]\n",
      "step =  5200 error value =  2.2659978817770826e+24 W =  [[ 1.23314497e+12]\n",
      " [-1.65397633e+12]] , b =  [5.50716232e+10]\n",
      "step =  5600 error value =  2.2659978817770826e+24 W =  [[ 1.23314497e+12]\n",
      " [-1.65397633e+12]] , b =  [5.50716232e+10]\n",
      "step =  6000 error value =  2.2659978817770826e+24 W =  [[ 1.23314497e+12]\n",
      " [-1.65397633e+12]] , b =  [5.50716232e+10]\n",
      "step =  6400 error value =  2.2659978817770826e+24 W =  [[ 1.23314497e+12]\n",
      " [-1.65397633e+12]] , b =  [5.50716232e+10]\n",
      "step =  6800 error value =  2.2659978817770826e+24 W =  [[ 1.23314497e+12]\n",
      " [-1.65397633e+12]] , b =  [5.50716232e+10]\n",
      "step =  7200 error value =  2.2659978817770826e+24 W =  [[ 1.23314497e+12]\n",
      " [-1.65397633e+12]] , b =  [5.50716232e+10]\n",
      "step =  7600 error value =  2.2659978817770826e+24 W =  [[ 1.23314497e+12]\n",
      " [-1.65397633e+12]] , b =  [5.50716232e+10]\n",
      "step =  8000 error value =  2.2659978817770826e+24 W =  [[ 1.23314497e+12]\n",
      " [-1.65397633e+12]] , b =  [5.50716232e+10]\n"
     ]
    }
   ],
   "source": [
    "learning_rate = 1e-2\n",
    "\n",
    "f = lambda x : loss_func(x_data, t_data)\n",
    "print(\"initial error value = \", error_val(x_data, t_data), \"initial W = \", W, \"\\n\", \", b = \", b)\n",
    "\n",
    "for step in range(8001):\n",
    "    W -= learning_rate *numerical_derivative(f, W)\n",
    "    b -= learning_rate *numerical_derivative(f, b)\n",
    "    \n",
    "    if (step % 400 == 0):\n",
    "        print(\"step = \", step, \"error value = \", error_val(x_data, t_data), \"W = \", W, \", b = \", b)"
   ]
  },
  {
   "cell_type": "code",
   "execution_count": 22,
   "metadata": {},
   "outputs": [
    {
     "data": {
      "text/plain": [
       "array([-1.23677152e+12])"
      ]
     },
     "execution_count": 22,
     "metadata": {},
     "output_type": "execute_result"
    }
   ],
   "source": [
    "test_data = np.array([7,6])\n",
    "predict(test_data)"
   ]
  },
  {
   "cell_type": "code",
   "execution_count": null,
   "metadata": {},
   "outputs": [],
   "source": []
  },
  {
   "cell_type": "code",
   "execution_count": null,
   "metadata": {},
   "outputs": [],
   "source": []
  },
  {
   "cell_type": "code",
   "execution_count": null,
   "metadata": {},
   "outputs": [],
   "source": []
  },
  {
   "cell_type": "code",
   "execution_count": null,
   "metadata": {},
   "outputs": [],
   "source": []
  },
  {
   "cell_type": "code",
   "execution_count": null,
   "metadata": {},
   "outputs": [],
   "source": []
  },
  {
   "cell_type": "code",
   "execution_count": null,
   "metadata": {},
   "outputs": [],
   "source": []
  }
 ],
 "metadata": {
  "kernelspec": {
   "display_name": "Python 3",
   "language": "python",
   "name": "python3"
  },
  "language_info": {
   "codemirror_mode": {
    "name": "ipython",
    "version": 3
   },
   "file_extension": ".py",
   "mimetype": "text/x-python",
   "name": "python",
   "nbconvert_exporter": "python",
   "pygments_lexer": "ipython3",
   "version": "3.8.3"
  }
 },
 "nbformat": 4,
 "nbformat_minor": 4
}
