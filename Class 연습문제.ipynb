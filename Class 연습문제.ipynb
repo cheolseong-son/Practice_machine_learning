{
 "cells": [
  {
   "cell_type": "markdown",
   "metadata": {},
   "source": [
    "name 프로퍼티를 가진 Student를 부모 클래스로 major 프로퍼티를 가진\n",
    "\n",
    "GraduateStudent 자식 클래스를 정의하고 이 클래스의 객체를\n",
    "\n",
    "다음과 같이 문자열로 출력하는 코드를 작성하십시오."
   ]
  },
  {
   "cell_type": "code",
   "execution_count": 2,
   "metadata": {},
   "outputs": [
    {
     "name": "stdout",
     "output_type": "stream",
     "text": [
      "이름 : 홍길동\n",
      "이름 : 이순신, 전공 : 컴퓨터\n"
     ]
    }
   ],
   "source": [
    "class Student:\n",
    "    def __init__(self, name):\n",
    "        self.__name = name\n",
    "    @property\n",
    "    def name(self):\n",
    "        return self.__name\n",
    "    def __repr__(self):\n",
    "        return \"이름 : {0}\".format(self.name)\n",
    "    \n",
    "class GraduateStudent(Student):\n",
    "    def __init__(self, name, major):\n",
    "        super().__init__(name)\n",
    "        self.__major = major\n",
    "        \n",
    "    @property\n",
    "    def major(self):\n",
    "        return self.__major\n",
    "    \n",
    "    def __repr__(self):\n",
    "        return super().__repr__() + \", 전공 : {0}\".format(self.major)\n",
    "    \n",
    "    \n",
    "s1 = Student(\"홍길동\")\n",
    "print(s1)\n",
    "s2 = GraduateStudent(\"이순신\", \"컴퓨터\")\n",
    "print(s2)"
   ]
  },
  {
   "cell_type": "code",
   "execution_count": 5,
   "metadata": {},
   "outputs": [
    {
     "name": "stdout",
     "output_type": "stream",
     "text": [
      "베기\n"
     ]
    }
   ],
   "source": [
    "class Knight:\n",
    "    def __init__(self, health, mana, armor):\n",
    "        self.health = health\n",
    "        self.mana = mana\n",
    "        self.armor = armor\n",
    "    \n",
    "    def slash(self):\n",
    "        print(\"베기\")\n",
    "        \n",
    "x = Knight(health = 542.4, mana = 210.2, armor = 38)\n",
    "x.slash()"
   ]
  },
  {
   "cell_type": "code",
   "execution_count": null,
   "metadata": {},
   "outputs": [],
   "source": []
  },
  {
   "cell_type": "code",
   "execution_count": null,
   "metadata": {},
   "outputs": [],
   "source": []
  },
  {
   "cell_type": "code",
   "execution_count": null,
   "metadata": {},
   "outputs": [],
   "source": []
  },
  {
   "cell_type": "code",
   "execution_count": null,
   "metadata": {},
   "outputs": [],
   "source": []
  },
  {
   "cell_type": "code",
   "execution_count": null,
   "metadata": {},
   "outputs": [],
   "source": []
  },
  {
   "cell_type": "code",
   "execution_count": null,
   "metadata": {},
   "outputs": [],
   "source": []
  },
  {
   "cell_type": "code",
   "execution_count": null,
   "metadata": {},
   "outputs": [],
   "source": []
  },
  {
   "cell_type": "code",
   "execution_count": null,
   "metadata": {},
   "outputs": [],
   "source": []
  },
  {
   "cell_type": "code",
   "execution_count": null,
   "metadata": {},
   "outputs": [],
   "source": []
  },
  {
   "cell_type": "code",
   "execution_count": null,
   "metadata": {},
   "outputs": [],
   "source": []
  },
  {
   "cell_type": "code",
   "execution_count": null,
   "metadata": {},
   "outputs": [],
   "source": []
  },
  {
   "cell_type": "code",
   "execution_count": null,
   "metadata": {},
   "outputs": [],
   "source": []
  },
  {
   "cell_type": "code",
   "execution_count": null,
   "metadata": {},
   "outputs": [],
   "source": []
  },
  {
   "cell_type": "code",
   "execution_count": null,
   "metadata": {},
   "outputs": [],
   "source": []
  }
 ],
 "metadata": {
  "kernelspec": {
   "display_name": "Python 3",
   "language": "python",
   "name": "python3"
  },
  "language_info": {
   "codemirror_mode": {
    "name": "ipython",
    "version": 3
   },
   "file_extension": ".py",
   "mimetype": "text/x-python",
   "name": "python",
   "nbconvert_exporter": "python",
   "pygments_lexer": "ipython3",
   "version": "3.8.3"
  }
 },
 "nbformat": 4,
 "nbformat_minor": 4
}
